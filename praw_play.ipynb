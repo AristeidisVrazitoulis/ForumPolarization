{
 "cells": [
  {
   "cell_type": "code",
   "execution_count": 2,
   "metadata": {},
   "outputs": [],
   "source": [
    "import json\n",
    "import praw"
   ]
  },
  {
   "cell_type": "code",
   "execution_count": 5,
   "metadata": {},
   "outputs": [],
   "source": [
    "credentials = 'client_secrets.json'\n",
    "\n",
    "with open(credentials) as f:\n",
    "    creds = json.load(f)\n",
    "\n",
    "reddit = praw.Reddit(client_id=creds['client_id'],\n",
    "                     client_secret=creds['client_secret'],\n",
    "                     user_agent=creds['user_agent'],\n",
    "                     redirect_uri=creds['redirect_uri'],\n",
    "                     refresh_token=creds['refresh_token'])\n",
    "                     "
   ]
  },
  {
   "cell_type": "code",
   "execution_count": 6,
   "metadata": {},
   "outputs": [
    {
     "name": "stdout",
     "output_type": "stream",
     "text": [
      "Positive_Distance_24\n"
     ]
    }
   ],
   "source": [
    "print(reddit.user.me())"
   ]
  },
  {
   "cell_type": "code",
   "execution_count": 7,
   "metadata": {},
   "outputs": [
    {
     "data": {
      "text/plain": [
       "[]"
      ]
     },
     "execution_count": 7,
     "metadata": {},
     "output_type": "execute_result"
    }
   ],
   "source": [
    "submission = reddit.submission(id=\"xco27t\")\n",
    "submission.comments.replace_more(limit=None)"
   ]
  },
  {
   "cell_type": "code",
   "execution_count": 14,
   "metadata": {},
   "outputs": [
    {
     "data": {
      "text/plain": [
       "'t3_xco27t'"
      ]
     },
     "execution_count": 14,
     "metadata": {},
     "output_type": "execute_result"
    }
   ],
   "source": [
    "submission.comments[0].parent_id"
   ]
  },
  {
   "cell_type": "code",
   "execution_count": 13,
   "metadata": {},
   "outputs": [
    {
     "name": "stdout",
     "output_type": "stream",
     "text": [
      "t3_xco27t\n",
      "-----\n",
      "t3_xco27t\n",
      "-----\n",
      "t3_xco27t\n",
      "-----\n",
      "t3_xco27t\n",
      "-----\n",
      "t3_xco27t\n",
      "-----\n",
      "t3_xco27t\n",
      "-----\n",
      "t3_xco27t\n",
      "-----\n",
      "t3_xco27t\n",
      "-----\n",
      "t3_xco27t\n",
      "-----\n",
      "t3_xco27t\n",
      "-----\n",
      "t3_xco27t\n",
      "-----\n",
      "t3_xco27t\n",
      "-----\n",
      "t3_xco27t\n",
      "-----\n",
      "t3_xco27t\n",
      "-----\n",
      "t3_xco27t\n",
      "-----\n",
      "t3_xco27t\n",
      "-----\n",
      "t3_xco27t\n",
      "-----\n",
      "t3_xco27t\n",
      "-----\n",
      "t3_xco27t\n",
      "-----\n",
      "t3_xco27t\n",
      "-----\n",
      "t3_xco27t\n",
      "-----\n",
      "t1_io6hpvk\n",
      "-----\n",
      "t1_io6hpvk\n",
      "-----\n",
      "t1_io7cqrf\n",
      "-----\n",
      "t1_io7cqrf\n",
      "-----\n",
      "t1_io7cqrf\n",
      "-----\n",
      "t1_io7dzfc\n",
      "-----\n",
      "t1_io6qpol\n",
      "-----\n",
      "t1_io6qpol\n",
      "-----\n",
      "t1_io6qpol\n",
      "-----\n",
      "t1_io7tbyj\n",
      "-----\n",
      "t1_io8fpkt\n",
      "-----\n",
      "t1_io8jyaa\n",
      "-----\n",
      "t1_io6xxtf\n",
      "-----\n",
      "t1_io7wvuz\n",
      "-----\n",
      "t1_io6yjsq\n",
      "-----\n",
      "t1_io7hium\n",
      "-----\n",
      "t1_io8c712\n",
      "-----\n",
      "t1_io8whzu\n",
      "-----\n",
      "t1_io7ooln\n",
      "-----\n",
      "t1_io7ooln\n",
      "-----\n",
      "t1_io6utgn\n",
      "-----\n",
      "t1_io7ebqt\n",
      "-----\n",
      "t1_io6vo22\n",
      "-----\n",
      "t1_io6vo22\n",
      "-----\n",
      "t1_io73q5x\n",
      "-----\n",
      "t1_io7ht95\n",
      "-----\n",
      "t1_io7f30c\n",
      "-----\n",
      "t1_io6vzik\n",
      "-----\n",
      "t1_io7thrb\n",
      "-----\n",
      "t1_io7ftkp\n",
      "-----\n",
      "t1_io8rmwl\n",
      "-----\n",
      "t1_io7hpj3\n",
      "-----\n",
      "t1_io7i7qt\n",
      "-----\n",
      "t1_io7i7qt\n",
      "-----\n"
     ]
    }
   ],
   "source": [
    "comment_queue = submission.comments[:]  # Seed with top-level\n",
    "while comment_queue:\n",
    "    comment = comment_queue.pop(0)\n",
    "    print(comment.parent_id)\n",
    "    print(\"-----\")\n",
    "    comment_queue.extend(comment.replies)"
   ]
  },
  {
   "cell_type": "code",
   "execution_count": 15,
   "metadata": {},
   "outputs": [],
   "source": [
    "from treelib import Tree,Node"
   ]
  },
  {
   "cell_type": "code",
   "execution_count": 16,
   "metadata": {},
   "outputs": [
    {
     "name": "stdout",
     "output_type": "stream",
     "text": [
      "Harry\n",
      "├── Bill\n",
      "└── Jane\n",
      "    ├── Diane\n",
      "    │   └── Mary\n",
      "    └── Mark\n",
      "\n"
     ]
    }
   ],
   "source": [
    "tree = Tree()\n",
    "tree.create_node(\"Harry\", \"harry\")  # root node\n",
    "tree.create_node(\"Jane\", \"jane\", parent=\"harry\")\n",
    "tree.create_node(\"Bill\", \"bill\", parent=\"harry\")\n",
    "tree.create_node(\"Diane\", \"diane\", parent=\"jane\")\n",
    "tree.create_node(\"Mary\", \"mary\", parent=\"diane\")\n",
    "tree.create_node(\"Mark\", \"mark\", parent=\"jane\")\n",
    "tree.show()"
   ]
  },
  {
   "cell_type": "code",
   "execution_count": 17,
   "metadata": {},
   "outputs": [
    {
     "data": {
      "text/plain": [
       "'{\"Harry\": {\"children\": [{\"Bill\": {\"data\": null}}, {\"Jane\": {\"children\": [{\"Diane\": {\"children\": [{\"Mary\": {\"data\": null}}], \"data\": null}}, {\"Mark\": {\"data\": null}}], \"data\": null}}], \"data\": null}}'"
      ]
     },
     "execution_count": 17,
     "metadata": {},
     "output_type": "execute_result"
    }
   ],
   "source": [
    "tree.to_json(with_data=True)"
   ]
  },
  {
   "cell_type": "code",
   "execution_count": 18,
   "metadata": {},
   "outputs": [],
   "source": [
    "tree.save2file('tree.txt')"
   ]
  },
  {
   "cell_type": "code",
   "execution_count": null,
   "metadata": {},
   "outputs": [],
   "source": []
  }
 ],
 "metadata": {
  "kernelspec": {
   "display_name": "Python 3.10.5 64-bit",
   "language": "python",
   "name": "python3"
  },
  "language_info": {
   "codemirror_mode": {
    "name": "ipython",
    "version": 3
   },
   "file_extension": ".py",
   "mimetype": "text/x-python",
   "name": "python",
   "nbconvert_exporter": "python",
   "pygments_lexer": "ipython3",
   "version": "3.10.5"
  },
  "orig_nbformat": 4,
  "vscode": {
   "interpreter": {
    "hash": "e593ac106456af50ce7af38f9671c411b49d6cd90f9b885e167f0f594e09038c"
   }
  }
 },
 "nbformat": 4,
 "nbformat_minor": 2
}
